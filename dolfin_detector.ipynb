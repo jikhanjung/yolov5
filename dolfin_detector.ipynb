{
  "nbformat": 4,
  "nbformat_minor": 0,
  "metadata": {
    "colab": {
      "name": "dolfin_detector.ipynb",
      "provenance": [],
      "collapsed_sections": [],
      "authorship_tag": "ABX9TyOmK9j/WuTUkUX4mO3J/77L",
      "include_colab_link": true
    },
    "kernelspec": {
      "name": "python3",
      "display_name": "Python 3"
    },
    "accelerator": "GPU"
  },
  "cells": [
    {
      "cell_type": "markdown",
      "metadata": {
        "id": "view-in-github",
        "colab_type": "text"
      },
      "source": [
        "<a href=\"https://colab.research.google.com/github/jikhanjung/yolov5/blob/master/dolfin_detector.ipynb\" target=\"_parent\"><img src=\"https://colab.research.google.com/assets/colab-badge.svg\" alt=\"Open In Colab\"/></a>"
      ]
    },
    {
      "cell_type": "markdown",
      "metadata": {
        "id": "tWPYbBIxDZRW"
      },
      "source": [
        "이 노트북은 돌고래 사진에서 등지느러미의 위치를 인식해 그 결과를 .csv 형식으로 저장해주는 예제를 담고 있는 것으로 MARC(Marine Animal Research and Conservation: https://www.facebook.com/MARCKorea718) 의 돌고래 연구를 위하여 개발된 것입니다.\n",
        "\n",
        "사용법을 간단히 요약하면:\n",
        "1. GitHub 에서 돌고래 등지느러미를 인식할 수 있게 수정된 yolov5 의 리포지토리를 다운로드 받고 해당 환경에 필요한 파이썬 모듈들을 설치한다. (코드셀1)\n",
        "2. 테스트용 데이터가 들어있는 압축파일을 구글드라이브에서 다운로드 받고 압축을 풀어 디렉토리 안에 저장한다. (코드셀2)\n",
        "3. 등지느러미 인식 프로그램을 실행시켜 각 사진에서 등지느러미의 위치를 알아내고 그 결과를 [디렉토리이름]/[디렉토리이름].csv 에 CSV(comma seperated values) 형식으로 저장한다. (코드셀3)\n",
        "\n",
        "각 코드셀에 위에 커서를 가져가면 해당 셀의 왼쪽 위에 실행 버튼이 나타나고, 이것을 클릭하면 해당 셀들의 명령어들이 실행됩니다. "
      ]
    },
    {
      "cell_type": "code",
      "metadata": {
        "id": "E0BvkOi66x5k"
      },
      "source": [
        "# 코드셀1: GitHub 에서 돌고래 등지느러미 인식용으로 수정된 yolov5 repo 를 다운로드 받고 (git clone)\n",
        "!git clone https://github.com/jikhanjung/yolov5  # clone repo\n",
        "\n",
        "# yolov5 디렉토리로 이동\n",
        "%cd yolov5\n",
        "\n",
        "# 파이토치의 실행에 필요한 모듈들을 설치 (pip install)\n",
        "%pip install -qr requirements.txt  # install dependencies\n",
        "\n",
        "import torch\n",
        "from IPython.display import Image, clear_output  # to display images\n",
        "\n",
        "# 준비 완료 메시지가 나오면 성공\n",
        "clear_output()\n",
        "print('준비가 완료되었습니다. 파이토치 %s 와 %s 를 사용합니다.' % (torch.__version__, torch.cuda.get_device_properties(0) if torch.cuda.is_available() else 'CPU'))"
      ],
      "execution_count": null,
      "outputs": []
    },
    {
      "cell_type": "code",
      "metadata": {
        "id": "N-mP4oBXF3qi"
      },
      "source": [
        "# 코드셀2: 테스트용 데이터가 들어 있는 압축파일(20160316_TEST.ZIP)을 구글드라이브에서 다운로드 받고 (gdown)\n",
        "!gdown --id 1AmBbnLhmUQUJqtYm_4f0Bmjv7hQsZgQQ\n",
        "\n",
        "# 압축을 풀어 디렉토리 안에 저장 (unzip)\n",
        "!unzip -q /content/yolov5/20160316_TEST.zip \n",
        "\n",
        "# 저장이 끝났으면 압축파일은 필요없으므로 삭제\n",
        "!rm /content/yolov5/20160316_TEST.zip\n",
        "\n",
        "# 파일이 제대로 저장되었는지 확인하고 싶으면 화면 왼쪽의 폴더 아이콘을 클릭해서 yolov5/ 디렉토리로 들어가본다. 20160316_TEST 디렉토리 밑에 이미지파일들이 들어있으면 OK."
      ],
      "execution_count": null,
      "outputs": []
    },
    {
      "cell_type": "code",
      "metadata": {
        "id": "EFr-tOE5GjwC"
      },
      "source": [
        "# 코드셀3: \n",
        "!python detect_fins.py --source 20160316_TEST"
      ],
      "execution_count": null,
      "outputs": []
    },
    {
      "cell_type": "markdown",
      "metadata": {
        "id": "mhruFeAoGvri"
      },
      "source": [
        "인식이 잘 되었는지 궁금하다면 화면 왼쪽의 파일탭에서 yolov5/20160316_TEST 디렉토리 안의 20160316_TEST.csv 파일을 더블클릭해서 내용을 확인하면 됩니다."
      ]
    },
    {
      "cell_type": "markdown",
      "metadata": {
        "id": "PKvxIXLJIeFs"
      },
      "source": [
        "실제 돌고래 사진으로 등지느러미 인식을 하려면 다음과 같은 단계를 거쳐야 합니다.\n",
        "\n",
        "1. 돌고래 사진파일들이 들어있는 폴더를 압축해서 구글 드라이브에 저장.\n",
        "1. 구글 드라이브에서 해당 압축파일의 id 를 알아낸다.\n",
        "> * 윈도우탐색기 등에서 파일을 우클릭\n",
        "> * 대화상자가 보이면 아래쪽 [링크 보기] 를 클릭하여 [링크가 있는 모든 사용자에게 공개] 를 선택한다.\n",
        "> * 링크 URL 은 https://drive.google.com/file/d/{파일ID}/view?usp=sharing 의 형식이므로 여기서 {파일ID} 부분만 복사한다.\n",
        "3. 코드셀2 의 내용을 참고하여 `!gdown --id {파일ID}` 에 해당 파일의 id 를 넣고 셀을 실행시켜 압축파일을 코랩으로 다운로드 받는다. \n",
        "4. 압축파일이 디렉토리를 포함하고 있을 경우는 코드셀2 와 같이 unzip 만 실행시키면 되지만 만일 압축파일이 디렉토리 없이 이미지파일들만 압축되어 있다면 코드셀4 처럼 unzip 명령어 뒤에 -d [디렉토리이름] 을 입력하여 원하는 디렉토리에 압축을 풀어준다.\n",
        "5. `!python detect_fins.py --source [디렉토리이름]` 을 실행시켜 등지느러미 인식을 수행한다.\n",
        "6. 인식결과는 [디렉토리이름]/[디렉토리이름].csv 파일에서 확인할 수 있다.\n"
      ]
    },
    {
      "cell_type": "code",
      "metadata": {
        "id": "a97qYSeTmnGk"
      },
      "source": [
        "# 코드셀4: 압축파일에 디렉토리가 포함되어 있지 않을 경우의 예제\n",
        "# 압축파일 다운로드 \n",
        "!gdown --id 1Obd-vRf5m2WoF_MleIB7HGlAcc92lzad\n",
        "\n",
        "# 20160510_TEST 디렉토리에 압축 풀기\n",
        "!unzip -q /content/yolov5/20160510_TEST.zip -d 20160510_TEST\n",
        "\n",
        "# 압축파일 삭제\n",
        "!rm /content/yolov5/20160510_TEST.zip\n",
        "\n",
        "# 인식프로그램 실행.\n",
        "!python detect_fins.py --source 20160510_TEST"
      ],
      "execution_count": null,
      "outputs": []
    },
    {
      "cell_type": "markdown",
      "metadata": {
        "id": "7VTBuQKjPxu8"
      },
      "source": [
        "관련하여 문제가 있거나 궁금한 점이 있으시면 honestjung@gmail.com 으로 연락 주세요. \n",
        "\n",
        "2020.11.27 "
      ]
    }
  ]
}